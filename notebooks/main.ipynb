{
 "cells": [
  {
   "cell_type": "code",
   "execution_count": 15,
   "id": "a4e6b832",
   "metadata": {},
   "outputs": [
    {
     "name": "stdout",
     "output_type": "stream",
     "text": [
      "Working directory set to: /Users/emilstausbol/Documents/GitHub/AIML25-Exam\n"
     ]
    }
   ],
   "source": [
    "import os\n",
    "from pathlib import Path\n",
    "\n",
    "while Path.cwd().name.lower() != \"aiml25-exam\" and \"aiml25-exam\" in str(Path.cwd()).lower():\n",
    "    os.chdir(\"..\")  # Move up one directory\n",
    "print(f\"Working directory set to: {Path.cwd()}\")"
   ]
  },
  {
   "cell_type": "code",
   "execution_count": 16,
   "id": "169933c9",
   "metadata": {},
   "outputs": [],
   "source": [
    "from src.yolo.yolo import Yolo\n",
    "from ultralytics import YOLO\n",
    "from src.utils.path import from_root"
   ]
  },
  {
   "cell_type": "code",
   "execution_count": 18,
   "id": "d3c64ebb",
   "metadata": {},
   "outputs": [
    {
     "name": "stdout",
     "output_type": "stream",
     "text": [
      "\n",
      "image 1/1 /Users/emilstausbol/Documents/GitHub/AIML25-Exam/datasets/test/images/1.png: 448x640 14 sub-flows, 1256.5ms\n",
      "Speed: 17.4ms preprocess, 1256.5ms inference, 12.0ms postprocess per image at shape (1, 3, 448, 640)\n"
     ]
    }
   ],
   "source": [
    "model = YOLO(from_root(\"models/yolo-trained.pt\"))\n",
    "\n",
    "yolo = Yolo(model)\n",
    "yolo.predict(from_root(\"datasets/test/images/1.png\"))"
   ]
  },
  {
   "cell_type": "code",
   "execution_count": 19,
   "id": "2328e05a",
   "metadata": {},
   "outputs": [
    {
     "data": {
      "text/plain": [
       "[{'xywh': [1163.42822265625,\n",
       "   383.06591796875,\n",
       "   1180.1429443359375,\n",
       "   601.815185546875],\n",
       "  'confidence': 0.91915363073349,\n",
       "  'class_id': 0,\n",
       "  'xyxy': [573.3568115234375,\n",
       "   82.1583251953125,\n",
       "   1753.499755859375,\n",
       "   683.9735107421875]},\n",
       " {'xywh': [616.860595703125,\n",
       "   920.391357421875,\n",
       "   646.033935546875,\n",
       "   607.21728515625],\n",
       "  'confidence': 0.8993555903434753,\n",
       "  'class_id': 0,\n",
       "  'xyxy': [293.8435974121094, 616.78271484375, 939.8775634765625, 1224.0]},\n",
       " {'xywh': [541.1039428710938,\n",
       "   578.2733154296875,\n",
       "   619.6742553710938,\n",
       "   503.87139892578125],\n",
       "  'confidence': 0.8913698196411133,\n",
       "  'class_id': 0,\n",
       "  'xyxy': [231.2667999267578,\n",
       "   326.33758544921875,\n",
       "   850.9410400390625,\n",
       "   830.208984375]},\n",
       " {'xywh': [1039.62646484375,\n",
       "   565.8004150390625,\n",
       "   388.488037109375,\n",
       "   481.3470764160156],\n",
       "  'confidence': 0.8903194665908813,\n",
       "  'class_id': 0,\n",
       "  'xyxy': [845.3824462890625,\n",
       "   325.1268615722656,\n",
       "   1233.8704833984375,\n",
       "   806.4739379882812]},\n",
       " {'xywh': [404.9783630371094,\n",
       "   175.62281799316406,\n",
       "   744.2182006835938,\n",
       "   338.7335510253906],\n",
       "  'confidence': 0.8868914842605591,\n",
       "  'class_id': 0,\n",
       "  'xyxy': [32.8692626953125,\n",
       "   6.256049156188965,\n",
       "   777.0874633789062,\n",
       "   344.9895935058594]},\n",
       " {'xywh': [601.511962890625,\n",
       "   786.320556640625,\n",
       "   668.9357299804688,\n",
       "   875.3588256835938],\n",
       "  'confidence': 0.770042359828949,\n",
       "  'class_id': 0,\n",
       "  'xyxy': [267.0440673828125, 348.64117431640625, 935.9797973632812, 1224.0]},\n",
       " {'xywh': [699.11572265625,\n",
       "   341.0593566894531,\n",
       "   901.5664672851562,\n",
       "   323.55181884765625],\n",
       "  'confidence': 0.7666981220245361,\n",
       "  'class_id': 0,\n",
       "  'xyxy': [248.33245849609375,\n",
       "   179.283447265625,\n",
       "   1149.89892578125,\n",
       "   502.83526611328125]},\n",
       " {'xywh': [131.52745056152344,\n",
       "   496.39031982421875,\n",
       "   254.13510131835938,\n",
       "   661.499267578125],\n",
       "  'confidence': 0.763619601726532,\n",
       "  'class_id': 0,\n",
       "  'xyxy': [4.459892749786377,\n",
       "   165.64071655273438,\n",
       "   258.5950012207031,\n",
       "   827.1399536132812]},\n",
       " {'xywh': [545.3331298828125,\n",
       "   499.55987548828125,\n",
       "   608.0093383789062,\n",
       "   346.0353698730469],\n",
       "  'confidence': 0.720837414264679,\n",
       "  'class_id': 0,\n",
       "  'xyxy': [241.32847595214844,\n",
       "   326.5422058105469,\n",
       "   849.3378295898438,\n",
       "   672.5775756835938]},\n",
       " {'xywh': [544.5245361328125,\n",
       "   948.3073120117188,\n",
       "   481.36761474609375,\n",
       "   544.1126708984375],\n",
       "  'confidence': 0.5482460260391235,\n",
       "  'class_id': 0,\n",
       "  'xyxy': [303.84075927734375,\n",
       "   676.2509765625,\n",
       "   785.2083740234375,\n",
       "   1220.3636474609375]},\n",
       " {'xywh': [1516.7689208984375,\n",
       "   284.1482238769531,\n",
       "   410.275390625,\n",
       "   267.04449462890625],\n",
       "  'confidence': 0.49164319038391113,\n",
       "  'class_id': 0,\n",
       "  'xyxy': [1311.6312255859375,\n",
       "   150.62596130371094,\n",
       "   1721.9066162109375,\n",
       "   417.67047119140625]},\n",
       " {'xywh': [924.290771484375,\n",
       "   617.67431640625,\n",
       "   627.62255859375,\n",
       "   760.8052978515625],\n",
       "  'confidence': 0.37596771121025085,\n",
       "  'class_id': 0,\n",
       "  'xyxy': [610.4794921875,\n",
       "   237.27166748046875,\n",
       "   1238.10205078125,\n",
       "   998.0769653320312]},\n",
       " {'xywh': [550.096435546875,\n",
       "   325.8473205566406,\n",
       "   626.0458374023438,\n",
       "   321.81549072265625],\n",
       "  'confidence': 0.35552918910980225,\n",
       "  'class_id': 0,\n",
       "  'xyxy': [237.0735321044922,\n",
       "   164.9395751953125,\n",
       "   863.119384765625,\n",
       "   486.75506591796875]},\n",
       " {'xywh': [385.9302062988281,\n",
       "   818.3995971679688,\n",
       "   771.8604125976562,\n",
       "   811.2008056640625],\n",
       "  'confidence': 0.2572599947452545,\n",
       "  'class_id': 0,\n",
       "  'xyxy': [0.0, 412.7991638183594, 771.8604125976562, 1224.0]}]"
      ]
     },
     "execution_count": 19,
     "metadata": {},
     "output_type": "execute_result"
    }
   ],
   "source": [
    "bboxes = yolo.getBBoxes()\n",
    "bboxes"
   ]
  },
  {
   "cell_type": "code",
   "execution_count": 20,
   "id": "8f05ed55",
   "metadata": {},
   "outputs": [],
   "source": [
    "\n",
    "# Importing Image class from PIL module\n",
    "from PIL import Image\n",
    "\n",
    "for bbox in bboxes:\n",
    "    im = Image.open(from_root(\"datasets/test/images/1.png\"))\n",
    "    [left, top, right, bottom] = bbox[\"xyxy\"]\n",
    "    im1 = im.crop((left, top, right, bottom))\n",
    "    im1.show()"
   ]
  },
  {
   "cell_type": "code",
   "execution_count": null,
   "id": "02a26211",
   "metadata": {},
   "outputs": [],
   "source": []
  }
 ],
 "metadata": {
  "kernelspec": {
   "display_name": "aiml25-exam",
   "language": "python",
   "name": "python3"
  },
  "language_info": {
   "codemirror_mode": {
    "name": "ipython",
    "version": 3
   },
   "file_extension": ".py",
   "mimetype": "text/x-python",
   "name": "python",
   "nbconvert_exporter": "python",
   "pygments_lexer": "ipython3",
   "version": "3.12.10"
  }
 },
 "nbformat": 4,
 "nbformat_minor": 5
}
