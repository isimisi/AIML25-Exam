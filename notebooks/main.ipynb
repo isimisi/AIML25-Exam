{
 "cells": [
  {
   "cell_type": "code",
   "execution_count": 1,
   "id": "a4e6b832",
   "metadata": {},
   "outputs": [
    {
     "name": "stdout",
     "output_type": "stream",
     "text": [
      "Working directory set to: /Users/isimisi/Documents/GitHub/isimisi/AIML25-Exam\n"
     ]
    }
   ],
   "source": [
    "import os\n",
    "from pathlib import Path\n",
    "\n",
    "while Path.cwd().name.lower() != \"aiml25-exam\" and \"aiml25-exam\" in str(Path.cwd()).lower():\n",
    "    os.chdir(\"..\")  # Move up one directory\n",
    "print(f\"Working directory set to: {Path.cwd()}\")"
   ]
  },
  {
   "cell_type": "code",
   "execution_count": 2,
   "id": "169933c9",
   "metadata": {},
   "outputs": [],
   "source": [
    "from src.yolo.yolo import Yolo\n",
    "from ultralytics import YOLO\n",
    "from src.utils.path import from_root"
   ]
  },
  {
   "cell_type": "code",
   "execution_count": 4,
   "id": "d3c64ebb",
   "metadata": {},
   "outputs": [
    {
     "name": "stdout",
     "output_type": "stream",
     "text": [
      "\n",
      "image 1/1 /Users/isimisi/Documents/GitHub/isimisi/AIML25-Exam/datasets/test/images/4.png: 384x640 7 sub-flows, 499.3ms\n",
      "Speed: 1.1ms preprocess, 499.3ms inference, 0.3ms postprocess per image at shape (1, 3, 384, 640)\n"
     ]
    },
    {
     "data": {
      "text/plain": [
       "[ultralytics.engine.results.Results object with attributes:\n",
       " \n",
       " boxes: ultralytics.engine.results.Boxes object\n",
       " keypoints: None\n",
       " masks: None\n",
       " names: {0: 'sub-flow'}\n",
       " obb: None\n",
       " orig_img: array([[[248, 245, 243],\n",
       "         [248, 245, 243],\n",
       "         [248, 245, 243],\n",
       "         ...,\n",
       "         [248, 245, 243],\n",
       "         [248, 245, 243],\n",
       "         [248, 245, 243]],\n",
       " \n",
       "        [[248, 245, 243],\n",
       "         [248, 245, 243],\n",
       "         [248, 245, 243],\n",
       "         ...,\n",
       "         [248, 245, 243],\n",
       "         [248, 245, 243],\n",
       "         [248, 245, 243]],\n",
       " \n",
       "        [[248, 245, 243],\n",
       "         [248, 245, 243],\n",
       "         [248, 245, 243],\n",
       "         ...,\n",
       "         [248, 245, 243],\n",
       "         [248, 245, 243],\n",
       "         [248, 245, 243]],\n",
       " \n",
       "        ...,\n",
       " \n",
       "        [[248, 245, 243],\n",
       "         [248, 245, 243],\n",
       "         [248, 245, 243],\n",
       "         ...,\n",
       "         [248, 245, 243],\n",
       "         [248, 245, 243],\n",
       "         [248, 245, 243]],\n",
       " \n",
       "        [[248, 245, 243],\n",
       "         [248, 245, 243],\n",
       "         [248, 245, 243],\n",
       "         ...,\n",
       "         [248, 245, 243],\n",
       "         [248, 245, 243],\n",
       "         [248, 245, 243]],\n",
       " \n",
       "        [[248, 245, 243],\n",
       "         [248, 245, 243],\n",
       "         [248, 245, 243],\n",
       "         ...,\n",
       "         [248, 245, 243],\n",
       "         [248, 245, 243],\n",
       "         [248, 245, 243]]], dtype=uint8)\n",
       " orig_shape: (1282, 2182)\n",
       " path: '/Users/isimisi/Documents/GitHub/isimisi/AIML25-Exam/datasets/test/images/4.png'\n",
       " probs: None\n",
       " save_dir: 'runs/detect/predict'\n",
       " speed: {'preprocess': 1.0921670036623254, 'inference': 499.3103329979931, 'postprocess': 0.3040410010726191}]"
      ]
     },
     "execution_count": 4,
     "metadata": {},
     "output_type": "execute_result"
    }
   ],
   "source": [
    "model = YOLO(from_root(\"models/yolo-trained.pt\"))\n",
    "\n",
    "yolo = Yolo(model)\n",
    "yolo.predict(from_root(\"datasets/test/images/4.png\"))"
   ]
  },
  {
   "cell_type": "code",
   "execution_count": 5,
   "id": "2328e05a",
   "metadata": {},
   "outputs": [
    {
     "name": "stdout",
     "output_type": "stream",
     "text": [
      "7\n"
     ]
    }
   ],
   "source": [
    "bboxes = yolo.getBBoxes()\n",
    "images = yolo.cropImages(bboxes)\n",
    "\n",
    "# images = images[:3]\n",
    "\n",
    "print(len(images))"
   ]
  },
  {
   "cell_type": "code",
   "execution_count": 6,
   "id": "b0c885b8",
   "metadata": {},
   "outputs": [],
   "source": [
    "from src.edge_detector_llm import EdgeDetectorLLM\n",
    "from decouple import config\n",
    "\n",
    "WX_API_KEY = config(\"WX_API_KEY\")\n",
    "WX_PROJECT_ID = config(\"WX_PROJECT_ID\")\n",
    "WX_API_URL = \"https://us-south.ml.cloud.ibm.com\"\n",
    "\n",
    "model = EdgeDetectorLLM(\n",
    "    api_key=WX_API_KEY,\n",
    "    project_id=WX_PROJECT_ID,\n",
    "    api_url=WX_API_URL,\n",
    "    model_id=\"watsonx/meta-llama/llama-3-2-90b-vision-instruct\",  \n",
    "    params={}\n",
    ")"
   ]
  },
  {
   "cell_type": "code",
   "execution_count": 7,
   "id": "6e5115fe",
   "metadata": {},
   "outputs": [
    {
     "data": {
      "text/plain": [
       "[{'source': 'Company 1', 'target': 'Owner 1'},\n",
       " {'source': 'Owner 1', 'target': 'Fund'},\n",
       " {'source': 'Fund', 'target': 'Company 2'},\n",
       " {'source': 'Company 3', 'target': 'Owner 3'},\n",
       " {'source': 'Company 1', 'target': 'Entity'},\n",
       " {'source': 'Owner 3', 'target': 'Entity'},\n",
       " {'source': 'Fund 2', 'target': 'Company 3'},\n",
       " {'source': 'Company 3', 'target': 'Owner 3'},\n",
       " {'source': 'Owner 3', 'target': 'Entity'},\n",
       " {'source': 'Entity', 'target': 'Company 1'},\n",
       " {'source': 'Fund 2', 'target': 'Company 3'},\n",
       " {'source': 'Company 3', 'target': 'Owner 3'},\n",
       " {'source': 'Owner', 'target': 'Entity'},\n",
       " {'source': 'Owner 3', 'target': 'Company 3'},\n",
       " {'source': 'Owner 3', 'target': 'Company 3'}]"
      ]
     },
     "execution_count": 7,
     "metadata": {},
     "output_type": "execute_result"
    }
   ],
   "source": [
    "edges = []\n",
    "\n",
    "for image in images:\n",
    "    response = model.invoke(image, found_edges=edges)\n",
    "    edges.extend(response.answer)\n",
    "\n",
    "# path = str(from_root(\"datasets/test/images/4.png\"))\n",
    "\n",
    "# response = model.invoke(path, found_edges=edges)\n",
    "edges.extend(response.answer)\n",
    "\n",
    "edges"
   ]
  },
  {
   "cell_type": "code",
   "execution_count": 67,
   "id": "6171ffe2",
   "metadata": {},
   "outputs": [
    {
     "data": {
      "text/plain": [
       "EdgeResponse(reasoning='Visual analysis provided no new edges to add to the flowchart.', answer=[])"
      ]
     },
     "execution_count": 67,
     "metadata": {},
     "output_type": "execute_result"
    }
   ],
   "source": [
    "response"
   ]
  },
  {
   "cell_type": "code",
   "execution_count": 8,
   "id": "de78d973",
   "metadata": {},
   "outputs": [
    {
     "data": {
      "image/png": "[encoded data removed]",
      "text/plain": [
       "<Figure size 1400x1000 with 1 Axes>"
      ]
     },
     "metadata": {},
     "output_type": "display_data"
    }
   ],
   "source": [
    "from src.graph_factory import GraphFactory\n",
    "import matplotlib.pyplot as plt\n",
    "\n",
    "factory = GraphFactory(edges)\n",
    "\n",
    "graph = factory.create_graph()\n",
    "\n",
    "plt.figure(figsize=(14, 10))\n",
    "factory.plot_graph(graph).show()\n",
    "\n",
    "\n",
    "\n",
    "\n"
   ]
  },
  {
   "cell_type": "code",
   "execution_count": 8,
   "id": "6571ca25",
   "metadata": {},
   "outputs": [],
   "source": [
    "for idx, image in enumerate(images):\n",
    "    image.save(f\"tmp/{idx}.png\")"
   ]
  },
  {
   "cell_type": "code",
   "execution_count": 20,
   "id": "61c7afa2",
   "metadata": {},
   "outputs": [
    {
     "data": {
      "text/plain": [
       "[{\n",
       "   \"id\": \"Owner 3-Entity\",\n",
       "   \"source\": \"Owner 3\",\n",
       "   \"target\": \"Entity\"\n",
       " },\n",
       " {\n",
       "   \"id\": \"Owner 1-Entity\",\n",
       "   \"source\": \"Owner 1\",\n",
       "   \"target\": \"Entity\"\n",
       " },\n",
       " {\n",
       "   \"id\": \"Company 3-Fund 2\",\n",
       "   \"source\": \"Company 3\",\n",
       "   \"target\": \"Fund 2\"\n",
       " },\n",
       " {\n",
       "   \"id\": \"Company 2-Fund 1\",\n",
       "   \"source\": \"Company 2\",\n",
       "   \"target\": \"Fund 1\"\n",
       " }]"
      ]
     },
     "execution_count": 20,
     "metadata": {},
     "output_type": "execute_result"
    }
   ],
   "source": [
    "factory.edges"
   ]
  },
  {
   "cell_type": "code",
   "execution_count": 9,
   "id": "f0842f35",
   "metadata": {},
   "outputs": [
    {
     "data": {
      "text/plain": [
       "[{\n",
       "   \"id\": \"Owner 1-Entity\",\n",
       "   \"source\": \"Owner 1\",\n",
       "   \"target\": \"Entity\"\n",
       " },\n",
       " {\n",
       "   \"id\": \"Owner 1-Company 2\",\n",
       "   \"source\": \"Owner 1\",\n",
       "   \"target\": \"Company 2\"\n",
       " },\n",
       " {\n",
       "   \"id\": \"Owner 3-Company 3\",\n",
       "   \"source\": \"Owner 3\",\n",
       "   \"target\": \"Company 3\"\n",
       " },\n",
       " {\n",
       "   \"id\": \"Owner 3-Entity\",\n",
       "   \"source\": \"Owner 3\",\n",
       "   \"target\": \"Entity\"\n",
       " },\n",
       " {\n",
       "   \"id\": \"Fund 1-Company 2\",\n",
       "   \"source\": \"Fund 1\",\n",
       "   \"target\": \"Company 2\"\n",
       " },\n",
       " {\n",
       "   \"id\": \"Fund 2-Company 3\",\n",
       "   \"source\": \"Fund 2\",\n",
       "   \"target\": \"Company 3\"\n",
       " },\n",
       " {\n",
       "   \"id\": \"Entity-Company 1\",\n",
       "   \"source\": \"Entity\",\n",
       "   \"target\": \"Company 1\"\n",
       " }]"
      ]
     },
     "execution_count": 9,
     "metadata": {},
     "output_type": "execute_result"
    }
   ],
   "source": [
    "true_edge_factory = GraphFactory([{\"source\": \"Owner 1\", \"target\": \"Entity\"}, {\"source\": \"Owner 1\", \"target\": \"Company 2\"}, {\"source\": \"Owner 3\", \"target\": \"Company 3\"}, {\n",
    "                                 \"source\": \"Owner 3\", \"target\": \"Entity\"}, {\"source\": \"Fund 1\", \"target\": \"Company 2\"}, {\"source\": \"Fund 2\", \"target\": \"Company 3\"}, {\"source\": \"Entity\", \"target\": \"Company 1\"}])\n",
    "\n",
    "true_edge_factory.edges"
   ]
  },
  {
   "cell_type": "code",
   "execution_count": 10,
   "id": "2ec7bc8b",
   "metadata": {},
   "outputs": [
    {
     "data": {
      "text/plain": [
       "{'true_positives': ['owner 3-company 3',\n",
       "  'entity-company 1',\n",
       "  'owner 3-entity',\n",
       "  'fund 2-company 3'],\n",
       " 'false_positives': ['fund-company 2',\n",
       "  'company 3-owner 3',\n",
       "  'company 1-entity',\n",
       "  'owner-entity',\n",
       "  'company 1-owner 1',\n",
       "  'owner 1-fund'],\n",
       " 'false_negatives': ['owner 1-entity',\n",
       "  'fund 1-company 2',\n",
       "  'owner 1-company 2'],\n",
       " 'precision': 0.4,\n",
       " 'recall': 0.5714285714285714,\n",
       " 'f1_score': 0.47058823529411764}"
      ]
     },
     "execution_count": 10,
     "metadata": {},
     "output_type": "execute_result"
    }
   ],
   "source": [
    "from src.edge_validator import EdgeValidator\n",
    "\n",
    "validator = EdgeValidator(true_edge_factory.edges, factory.edges)\n",
    "\n",
    "validator.validate()"
   ]
  },
  {
   "cell_type": "code",
   "execution_count": 25,
   "id": "1c3c69a5",
   "metadata": {},
   "outputs": [
    {
     "data": {
      "text/plain": [
       "{'true_positives': ['Owner 3-Company 3',\n",
       "  'Fund 2-Company 3',\n",
       "  'Fund 1-Company 2',\n",
       "  'Owner 1-Company 2',\n",
       "  'Entity-Company 1',\n",
       "  'Owner 1-Entity',\n",
       "  'Owner 3-Entity'],\n",
       " 'false_positives': [],\n",
       " 'false_negatives': [],\n",
       " 'precision': 1.0,\n",
       " 'recall': 1.0,\n",
       " 'f1_score': 1.0}"
      ]
     },
     "execution_count": 25,
     "metadata": {},
     "output_type": "execute_result"
    }
   ],
   "source": [
    "gpt_edges = [\n",
    "    {\"source\": \"Owner 3\", \"target\": \"Entity\"},\n",
    "    {\"source\": \"Owner 3\", \"target\": \"Company 3\"},\n",
    "    {\"source\": \"Owner 1\", \"target\": \"Entity\"},\n",
    "    {\"source\": \"Owner 1\", \"target\": \"Company 2\"},\n",
    "    {\"source\": \"Entity\", \"target\": \"Company 1\"},\n",
    "    {\"source\": \"Fund 2\", \"target\": \"Company 3\"},\n",
    "    {\"source\": \"Fund 1\", \"target\": \"Company 2\"}\n",
    "  ]\n",
    "\n",
    "gpt_fac = GraphFactory(gpt_edges)\n",
    "\n",
    "validator = EdgeValidator(true_edge_factory.edges, gpt_fac.edges)\n",
    "\n",
    "validator.validate()"
   ]
  },
  {
   "cell_type": "code",
   "execution_count": null,
   "id": "d85cd1be",
   "metadata": {},
   "outputs": [
    {
     "ename": "TypeError",
     "evalue": "LLMEdgeValidator.get_json_from_file() takes 1 positional argument but 2 were given",
     "output_type": "error",
     "traceback": [
      "\u001b[31m---------------------------------------------------------------------------\u001b[39m",
      "\u001b[31mTypeError\u001b[39m                                 Traceback (most recent call last)",
      "\u001b[36mCell\u001b[39m\u001b[36m \u001b[39m\u001b[32mIn[19]\u001b[39m\u001b[32m, line 9\u001b[39m\n\u001b[32m      1\u001b[39m \u001b[38;5;28;01mfrom\u001b[39;00m\u001b[38;5;250m \u001b[39m\u001b[34;01msrc\u001b[39;00m\u001b[34;01m.\u001b[39;00m\u001b[34;01medge_validator_llm\u001b[39;00m\u001b[38;5;250m \u001b[39m\u001b[38;5;28;01mimport\u001b[39;00m LLMEdgeValidator\n\u001b[32m      3\u001b[39m llm_validator = LLMEdgeValidator(api_key=WX_API_KEY,\n\u001b[32m      4\u001b[39m                                  project_id=WX_PROJECT_ID,\n\u001b[32m      5\u001b[39m                                  api_url=WX_API_URL,\n\u001b[32m      6\u001b[39m                                  model_id=\u001b[33m\"\u001b[39m\u001b[33mwatsonx/ibm/granite-3-2-8b-instruct\u001b[39m\u001b[33m\"\u001b[39m,\n\u001b[32m      7\u001b[39m                                  params={})\n\u001b[32m----> \u001b[39m\u001b[32m9\u001b[39m edge_json = \u001b[43mllm_validator\u001b[49m\u001b[43m.\u001b[49m\u001b[43mget_json_from_file\u001b[49m\u001b[43m(\u001b[49m\u001b[43mfrom_root\u001b[49m\u001b[43m(\u001b[49m\u001b[33;43m\"\u001b[39;49m\u001b[33;43mdatasets/test/json/4.json\u001b[39;49m\u001b[33;43m\"\u001b[39;49m\u001b[43m)\u001b[49m\u001b[43m)\u001b[49m\n\u001b[32m     10\u001b[39m true_edges = llm_validator.get_edges_from_json(edge_json)\n\u001b[32m     12\u001b[39m response = llm_validator.invoke(true_edges, factory.edges)\n",
      "\u001b[31mTypeError\u001b[39m: LLMEdgeValidator.get_json_from_file() takes 1 positional argument but 2 were given"
     ]
    }
   ],
   "source": [
    "from src.edge_validator_llm import LLMEdgeValidator\n",
    "\n",
    "llm_validator = LLMEdgeValidator(api_key=WX_API_KEY,\n",
    "                                 project_id=WX_PROJECT_ID,\n",
    "                                 api_url=WX_API_URL,\n",
    "                                 model_id=\"watsonx/ibm/granite-3-2-8b-instruct\",\n",
    "                                 params={})\n",
    "\n",
    "edge_json = llm_validator.get_json_from_file(from_root(\"datasets/test/json/4.json\"))\n",
    "true_edges = llm_validator.get_edges_from_json(edge_json)\n",
    "\n",
    "response = llm_validator.invoke(true_edges, factory.edges)\n"
   ]
  },
  {
   "cell_type": "code",
   "execution_count": null,
   "id": "886d9be4",
   "metadata": {},
   "outputs": [],
   "source": []
  }
 ],
 "metadata": {
  "kernelspec": {
   "display_name": "aiml25-exam",
   "language": "python",
   "name": "python3"
  },
  "language_info": {
   "codemirror_mode": {
    "name": "ipython",
    "version": 3
   },
   "file_extension": ".py",
   "mimetype": "text/x-python",
   "name": "python",
   "nbconvert_exporter": "python",
   "pygments_lexer": "ipython3",
   "version": "3.12.3"
  }
 },
 "nbformat": 4,
 "nbformat_minor": 5
}
