{
 "cells": [
  {
   "cell_type": "code",
   "execution_count": 1,
   "id": "a4e6b832",
   "metadata": {},
   "outputs": [
    {
     "name": "stdout",
     "output_type": "stream",
     "text": [
      "Working directory set to: /Users/isimisi/Documents/GitHub/isimisi/AIML25-Exam\n"
     ]
    }
   ],
   "source": [
    "import os\n",
    "from pathlib import Path\n",
    "\n",
    "while Path.cwd().name.lower() != \"aiml25-exam\" and \"aiml25-exam\" in str(Path.cwd()).lower():\n",
    "    os.chdir(\"..\")  # Move up one directory\n",
    "print(f\"Working directory set to: {Path.cwd()}\")"
   ]
  },
  {
   "cell_type": "code",
   "execution_count": 2,
   "id": "169933c9",
   "metadata": {},
   "outputs": [
    {
     "data": {
      "text/plain": [
       "<Figure size 1400x1000 with 0 Axes>"
      ]
     },
     "execution_count": 2,
     "metadata": {},
     "output_type": "execute_result"
    },
    {
     "data": {
      "text/plain": [
       "<Figure size 1400x1000 with 0 Axes>"
      ]
     },
     "metadata": {},
     "output_type": "display_data"
    }
   ],
   "source": [
    "from src.yolo.yolo import Yolo\n",
    "from ultralytics import YOLO\n",
    "from src.utils.path import from_root\n",
    "from src.llm_caller import LLMCaller\n",
    "from src.llm_detector import Detector\n",
    "import matplotlib.pyplot as plt\n",
    "plt.figure(figsize=(14, 10))"
   ]
  },
  {
   "cell_type": "code",
   "execution_count": 3,
   "id": "d3c64ebb",
   "metadata": {},
   "outputs": [],
   "source": [
    "model = YOLO(from_root(\"models/yolo-trained.pt\"))\n",
    "\n",
    "yolo = Yolo(model)"
   ]
  },
  {
   "cell_type": "code",
   "execution_count": 4,
   "id": "b0c885b8",
   "metadata": {},
   "outputs": [],
   "source": [
    "from decouple import config\n",
    "\n",
    "WX_API_KEY = config(\"WX_API_KEY\")\n",
    "WX_PROJECT_ID = config(\"WX_PROJECT_ID\")\n",
    "WX_API_URL = \"https://us-south.ml.cloud.ibm.com\"\n",
    "OPENAI_KEY = config(\"OPENAI_API_KEY\")\n",
    "# OPENAI_API_URL = \"https://api.openai.com/v1\"\n",
    "# OPENAI_PROJECT = \"proj_6SmPVkyXa0GChFv7TmDjB9B5\"\n",
    "\n",
    "model = LLMCaller(\n",
    "    api_key=OPENAI_KEY,          \n",
    "    model_id=\"gpt-4o\",     \n",
    "    params={\n",
    "        \"temperature\": 0.7,\n",
    "        \"max_tokens\": 150\n",
    "    })"
   ]
  },
  {
   "cell_type": "code",
   "execution_count": 5,
   "id": "b0919fdb",
   "metadata": {},
   "outputs": [],
   "source": [
    "detector = Detector(model, yolo)\n",
    "\n"
   ]
  },
  {
   "cell_type": "code",
   "execution_count": null,
   "id": "266e979a",
   "metadata": {},
   "outputs": [
    {
     "name": "stdout",
     "output_type": "stream",
     "text": [
      "\n",
      "image 1/1 /Users/isimisi/Documents/GitHub/isimisi/AIML25-Exam/datasets/test/images/4.png: 384x640 7 sub-flows, 500.1ms\n",
      "Speed: 1.4ms preprocess, 500.1ms inference, 0.7ms postprocess per image at shape (1, 3, 384, 640)\n",
      "totale images: 7\n"
     ]
    }
   ],
   "source": [
    "detector.initiate_image(str(from_root(\"datasets/test/images/4.png\")), should_crop=False)"
   ]
  },
  {
   "cell_type": "code",
   "execution_count": 7,
   "id": "2e81b876",
   "metadata": {},
   "outputs": [],
   "source": [
    "# detector.detect_nodes()"
   ]
  },
  {
   "cell_type": "code",
   "execution_count": 8,
   "id": "0956c946",
   "metadata": {},
   "outputs": [],
   "source": [
    "detector.detect_edges()"
   ]
  },
  {
   "cell_type": "code",
   "execution_count": 9,
   "id": "2fc6c461",
   "metadata": {},
   "outputs": [],
   "source": [
    "graph = detector.get_graph()"
   ]
  },
  {
   "cell_type": "code",
   "execution_count": 10,
   "id": "c97e70de",
   "metadata": {},
   "outputs": [
    {
     "data": {
      "text/plain": [
       "<module 'matplotlib.pyplot' from '/opt/anaconda3/envs/aiml25-exam/lib/python3.12/site-packages/matplotlib/pyplot.py'>"
      ]
     },
     "execution_count": 10,
     "metadata": {},
     "output_type": "execute_result"
    },
    {
     "data": {
      "image/png": "[encoded data removed]",
      "text/plain": [
       "<Figure size 640x480 with 1 Axes>"
      ]
     },
     "metadata": {},
     "output_type": "display_data"
    }
   ],
   "source": [
    "di_graph = graph.create_digraph()\n",
    "graph.plot_digraph(di_graph)"
   ]
  },
  {
   "cell_type": "code",
   "execution_count": 11,
   "id": "6f4d4d53",
   "metadata": {},
   "outputs": [],
   "source": [
    "from src.edge_validator import EdgeValidator\n",
    "\n",
    "validator = EdgeValidator.from_json_file(str(from_root(\"datasets/test/json/4.json\")), graph.edges)"
   ]
  },
  {
   "cell_type": "code",
   "execution_count": 12,
   "id": "0ebaf618",
   "metadata": {},
   "outputs": [
    {
     "data": {
      "text/plain": [
       "{'true_positives': ['owner1-company2',\n",
       "  'owner3-company3',\n",
       "  'owner3-entity',\n",
       "  'fund2-company3',\n",
       "  'owner1-entity',\n",
       "  'entity-company1'],\n",
       " 'false_positives': ['company2-fund1', 'company3-owner3', 'owner1-fund'],\n",
       " 'precision': 0.6666666666666666,\n",
       " 'recall': 0.8571428571428571,\n",
       " 'f1_score': 0.75}"
      ]
     },
     "execution_count": 12,
     "metadata": {},
     "output_type": "execute_result"
    }
   ],
   "source": [
    "validator.validate()"
   ]
  },
  {
   "cell_type": "code",
   "execution_count": null,
   "id": "55055e04",
   "metadata": {},
   "outputs": [],
   "source": []
  }
 ],
 "metadata": {
  "kernelspec": {
   "display_name": "aiml25-exam",
   "language": "python",
   "name": "python3"
  },
  "language_info": {
   "codemirror_mode": {
    "name": "ipython",
    "version": 3
   },
   "file_extension": ".py",
   "mimetype": "text/x-python",
   "name": "python",
   "nbconvert_exporter": "python",
   "pygments_lexer": "ipython3",
   "version": "3.12.3"
  }
 },
 "nbformat": 4,
 "nbformat_minor": 5
}
