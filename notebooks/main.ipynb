{
 "cells": [
  {
   "cell_type": "code",
   "execution_count": 9,
   "id": "a4e6b832",
   "metadata": {},
   "outputs": [
    {
     "name": "stdout",
     "output_type": "stream",
     "text": [
      "Working directory set to: /Users/emilstausbol/Documents/GitHub/AIML25-Exam\n"
     ]
    }
   ],
   "source": [
    "import os\n",
    "from pathlib import Path\n",
    "\n",
    "while Path.cwd().name.lower() != \"aiml25-exam\" and \"aiml25-exam\" in str(Path.cwd()).lower():\n",
    "    os.chdir(\"..\")  # Move up one directory\n",
    "print(f\"Working directory set to: {Path.cwd()}\")"
   ]
  },
  {
   "cell_type": "code",
   "execution_count": 10,
   "id": "169933c9",
   "metadata": {},
   "outputs": [],
   "source": [
    "from src.yolo.yolo import Yolo\n",
    "from ultralytics import YOLO\n",
    "from src.utils.path import from_root"
   ]
  },
  {
   "cell_type": "code",
   "execution_count": 11,
   "id": "d3c64ebb",
   "metadata": {},
   "outputs": [
    {
     "ename": "FileNotFoundError",
     "evalue": "[Errno 2] No such file or directory: '/Users/emilstausbol/Documents/GitHub/AIML25-Exam/yolo-trained.pt'",
     "output_type": "error",
     "traceback": [
      "\u001b[31m---------------------------------------------------------------------------\u001b[39m",
      "\u001b[31mFileNotFoundError\u001b[39m                         Traceback (most recent call last)",
      "\u001b[36mCell\u001b[39m\u001b[36m \u001b[39m\u001b[32mIn[11]\u001b[39m\u001b[32m, line 1\u001b[39m\n\u001b[32m----> \u001b[39m\u001b[32m1\u001b[39m model = \u001b[43mYOLO\u001b[49m\u001b[43m(\u001b[49m\u001b[43mfrom_root\u001b[49m\u001b[43m(\u001b[49m\u001b[33;43m\"\u001b[39;49m\u001b[33;43myolo-trained.pt\u001b[39;49m\u001b[33;43m\"\u001b[39;49m\u001b[43m)\u001b[49m\u001b[43m)\u001b[49m\n\u001b[32m      3\u001b[39m yolo = Yolo(model)\n\u001b[32m      4\u001b[39m yolo.predict(from_root(\u001b[33m\"\u001b[39m\u001b[33mdatasets/test/images/1.png\u001b[39m\u001b[33m\"\u001b[39m))\n",
      "\u001b[36mFile \u001b[39m\u001b[32m/opt/anaconda3/envs/aiml25-exam/lib/python3.12/site-packages/ultralytics/models/yolo/model.py:54\u001b[39m, in \u001b[36mYOLO.__init__\u001b[39m\u001b[34m(self, model, task, verbose)\u001b[39m\n\u001b[32m     51\u001b[39m     \u001b[38;5;28mself\u001b[39m.\u001b[34m__dict__\u001b[39m = new_instance.\u001b[34m__dict__\u001b[39m\n\u001b[32m     52\u001b[39m \u001b[38;5;28;01melse\u001b[39;00m:\n\u001b[32m     53\u001b[39m     \u001b[38;5;66;03m# Continue with default YOLO initialization\u001b[39;00m\n\u001b[32m---> \u001b[39m\u001b[32m54\u001b[39m     \u001b[38;5;28;43msuper\u001b[39;49m\u001b[43m(\u001b[49m\u001b[43m)\u001b[49m\u001b[43m.\u001b[49m\u001b[34;43m__init__\u001b[39;49m\u001b[43m(\u001b[49m\u001b[43mmodel\u001b[49m\u001b[43m=\u001b[49m\u001b[43mmodel\u001b[49m\u001b[43m,\u001b[49m\u001b[43m \u001b[49m\u001b[43mtask\u001b[49m\u001b[43m=\u001b[49m\u001b[43mtask\u001b[49m\u001b[43m,\u001b[49m\u001b[43m \u001b[49m\u001b[43mverbose\u001b[49m\u001b[43m=\u001b[49m\u001b[43mverbose\u001b[49m\u001b[43m)\u001b[49m\n",
      "\u001b[36mFile \u001b[39m\u001b[32m/opt/anaconda3/envs/aiml25-exam/lib/python3.12/site-packages/ultralytics/engine/model.py:147\u001b[39m, in \u001b[36mModel.__init__\u001b[39m\u001b[34m(self, model, task, verbose)\u001b[39m\n\u001b[32m    145\u001b[39m     \u001b[38;5;28mself\u001b[39m._new(model, task=task, verbose=verbose)\n\u001b[32m    146\u001b[39m \u001b[38;5;28;01melse\u001b[39;00m:\n\u001b[32m--> \u001b[39m\u001b[32m147\u001b[39m     \u001b[38;5;28;43mself\u001b[39;49m\u001b[43m.\u001b[49m\u001b[43m_load\u001b[49m\u001b[43m(\u001b[49m\u001b[43mmodel\u001b[49m\u001b[43m,\u001b[49m\u001b[43m \u001b[49m\u001b[43mtask\u001b[49m\u001b[43m=\u001b[49m\u001b[43mtask\u001b[49m\u001b[43m)\u001b[49m\n\u001b[32m    149\u001b[39m \u001b[38;5;66;03m# Delete super().training for accessing self.model.training\u001b[39;00m\n\u001b[32m    150\u001b[39m \u001b[38;5;28;01mdel\u001b[39;00m \u001b[38;5;28mself\u001b[39m.training\n",
      "\u001b[36mFile \u001b[39m\u001b[32m/opt/anaconda3/envs/aiml25-exam/lib/python3.12/site-packages/ultralytics/engine/model.py:289\u001b[39m, in \u001b[36mModel._load\u001b[39m\u001b[34m(self, weights, task)\u001b[39m\n\u001b[32m    286\u001b[39m weights = checks.check_model_file_from_stem(weights)  \u001b[38;5;66;03m# add suffix, i.e. yolo11n -> yolo11n.pt\u001b[39;00m\n\u001b[32m    288\u001b[39m \u001b[38;5;28;01mif\u001b[39;00m Path(weights).suffix == \u001b[33m\"\u001b[39m\u001b[33m.pt\u001b[39m\u001b[33m\"\u001b[39m:\n\u001b[32m--> \u001b[39m\u001b[32m289\u001b[39m     \u001b[38;5;28mself\u001b[39m.model, \u001b[38;5;28mself\u001b[39m.ckpt = \u001b[43mattempt_load_one_weight\u001b[49m\u001b[43m(\u001b[49m\u001b[43mweights\u001b[49m\u001b[43m)\u001b[49m\n\u001b[32m    290\u001b[39m     \u001b[38;5;28mself\u001b[39m.task = \u001b[38;5;28mself\u001b[39m.model.args[\u001b[33m\"\u001b[39m\u001b[33mtask\u001b[39m\u001b[33m\"\u001b[39m]\n\u001b[32m    291\u001b[39m     \u001b[38;5;28mself\u001b[39m.overrides = \u001b[38;5;28mself\u001b[39m.model.args = \u001b[38;5;28mself\u001b[39m._reset_ckpt_args(\u001b[38;5;28mself\u001b[39m.model.args)\n",
      "\u001b[36mFile \u001b[39m\u001b[32m/opt/anaconda3/envs/aiml25-exam/lib/python3.12/site-packages/ultralytics/nn/tasks.py:1306\u001b[39m, in \u001b[36mattempt_load_one_weight\u001b[39m\u001b[34m(weight, device, inplace, fuse)\u001b[39m\n\u001b[32m   1293\u001b[39m \u001b[38;5;28;01mdef\u001b[39;00m\u001b[38;5;250m \u001b[39m\u001b[34mattempt_load_one_weight\u001b[39m(weight, device=\u001b[38;5;28;01mNone\u001b[39;00m, inplace=\u001b[38;5;28;01mTrue\u001b[39;00m, fuse=\u001b[38;5;28;01mFalse\u001b[39;00m):\n\u001b[32m   1294\u001b[39m \u001b[38;5;250m    \u001b[39m\u001b[33;03m\"\"\"\u001b[39;00m\n\u001b[32m   1295\u001b[39m \u001b[33;03m    Load a single model weights.\u001b[39;00m\n\u001b[32m   1296\u001b[39m \n\u001b[32m   (...)\u001b[39m\u001b[32m   1304\u001b[39m \u001b[33;03m        (tuple): Tuple containing the model and checkpoint.\u001b[39;00m\n\u001b[32m   1305\u001b[39m \u001b[33;03m    \"\"\"\u001b[39;00m\n\u001b[32m-> \u001b[39m\u001b[32m1306\u001b[39m     ckpt, weight = \u001b[43mtorch_safe_load\u001b[49m\u001b[43m(\u001b[49m\u001b[43mweight\u001b[49m\u001b[43m)\u001b[49m  \u001b[38;5;66;03m# load ckpt\u001b[39;00m\n\u001b[32m   1307\u001b[39m     args = {**DEFAULT_CFG_DICT, **(ckpt.get(\u001b[33m\"\u001b[39m\u001b[33mtrain_args\u001b[39m\u001b[33m\"\u001b[39m, {}))}  \u001b[38;5;66;03m# combine model and default args, preferring model args\u001b[39;00m\n\u001b[32m   1308\u001b[39m     model = (ckpt.get(\u001b[33m\"\u001b[39m\u001b[33mema\u001b[39m\u001b[33m\"\u001b[39m) \u001b[38;5;129;01mor\u001b[39;00m ckpt[\u001b[33m\"\u001b[39m\u001b[33mmodel\u001b[39m\u001b[33m\"\u001b[39m]).to(device).float()  \u001b[38;5;66;03m# FP32 model\u001b[39;00m\n",
      "\u001b[36mFile \u001b[39m\u001b[32m/opt/anaconda3/envs/aiml25-exam/lib/python3.12/site-packages/ultralytics/nn/tasks.py:1211\u001b[39m, in \u001b[36mtorch_safe_load\u001b[39m\u001b[34m(weight, safe_only)\u001b[39m\n\u001b[32m   1209\u001b[39m                 ckpt = torch.load(f, pickle_module=safe_pickle)\n\u001b[32m   1210\u001b[39m         \u001b[38;5;28;01melse\u001b[39;00m:\n\u001b[32m-> \u001b[39m\u001b[32m1211\u001b[39m             ckpt = \u001b[43mtorch\u001b[49m\u001b[43m.\u001b[49m\u001b[43mload\u001b[49m\u001b[43m(\u001b[49m\u001b[43mfile\u001b[49m\u001b[43m,\u001b[49m\u001b[43m \u001b[49m\u001b[43mmap_location\u001b[49m\u001b[43m=\u001b[49m\u001b[33;43m\"\u001b[39;49m\u001b[33;43mcpu\u001b[39;49m\u001b[33;43m\"\u001b[39;49m\u001b[43m)\u001b[49m\n\u001b[32m   1213\u001b[39m \u001b[38;5;28;01mexcept\u001b[39;00m \u001b[38;5;167;01mModuleNotFoundError\u001b[39;00m \u001b[38;5;28;01mas\u001b[39;00m e:  \u001b[38;5;66;03m# e.name is missing module name\u001b[39;00m\n\u001b[32m   1214\u001b[39m     \u001b[38;5;28;01mif\u001b[39;00m e.name == \u001b[33m\"\u001b[39m\u001b[33mmodels\u001b[39m\u001b[33m\"\u001b[39m:\n",
      "\u001b[36mFile \u001b[39m\u001b[32m/opt/anaconda3/envs/aiml25-exam/lib/python3.12/site-packages/ultralytics/utils/patches.py:114\u001b[39m, in \u001b[36mtorch_load\u001b[39m\u001b[34m(*args, **kwargs)\u001b[39m\n\u001b[32m    111\u001b[39m \u001b[38;5;28;01mif\u001b[39;00m TORCH_1_13 \u001b[38;5;129;01mand\u001b[39;00m \u001b[33m\"\u001b[39m\u001b[33mweights_only\u001b[39m\u001b[33m\"\u001b[39m \u001b[38;5;129;01mnot\u001b[39;00m \u001b[38;5;129;01min\u001b[39;00m kwargs:\n\u001b[32m    112\u001b[39m     kwargs[\u001b[33m\"\u001b[39m\u001b[33mweights_only\u001b[39m\u001b[33m\"\u001b[39m] = \u001b[38;5;28;01mFalse\u001b[39;00m\n\u001b[32m--> \u001b[39m\u001b[32m114\u001b[39m \u001b[38;5;28;01mreturn\u001b[39;00m \u001b[43m_torch_load\u001b[49m\u001b[43m(\u001b[49m\u001b[43m*\u001b[49m\u001b[43margs\u001b[49m\u001b[43m,\u001b[49m\u001b[43m \u001b[49m\u001b[43m*\u001b[49m\u001b[43m*\u001b[49m\u001b[43mkwargs\u001b[49m\u001b[43m)\u001b[49m\n",
      "\u001b[36mFile \u001b[39m\u001b[32m/opt/anaconda3/envs/aiml25-exam/lib/python3.12/site-packages/torch/serialization.py:1327\u001b[39m, in \u001b[36mload\u001b[39m\u001b[34m(f, map_location, pickle_module, weights_only, mmap, **pickle_load_args)\u001b[39m\n\u001b[32m   1324\u001b[39m \u001b[38;5;28;01mif\u001b[39;00m \u001b[33m\"\u001b[39m\u001b[33mencoding\u001b[39m\u001b[33m\"\u001b[39m \u001b[38;5;129;01mnot\u001b[39;00m \u001b[38;5;129;01min\u001b[39;00m pickle_load_args.keys():\n\u001b[32m   1325\u001b[39m     pickle_load_args[\u001b[33m\"\u001b[39m\u001b[33mencoding\u001b[39m\u001b[33m\"\u001b[39m] = \u001b[33m\"\u001b[39m\u001b[33mutf-8\u001b[39m\u001b[33m\"\u001b[39m\n\u001b[32m-> \u001b[39m\u001b[32m1327\u001b[39m \u001b[38;5;28;01mwith\u001b[39;00m \u001b[43m_open_file_like\u001b[49m\u001b[43m(\u001b[49m\u001b[43mf\u001b[49m\u001b[43m,\u001b[49m\u001b[43m \u001b[49m\u001b[33;43m\"\u001b[39;49m\u001b[33;43mrb\u001b[39;49m\u001b[33;43m\"\u001b[39;49m\u001b[43m)\u001b[49m \u001b[38;5;28;01mas\u001b[39;00m opened_file:\n\u001b[32m   1328\u001b[39m     \u001b[38;5;28;01mif\u001b[39;00m _is_zipfile(opened_file):\n\u001b[32m   1329\u001b[39m         \u001b[38;5;66;03m# The zipfile reader is going to advance the current file position.\u001b[39;00m\n\u001b[32m   1330\u001b[39m         \u001b[38;5;66;03m# If we want to actually tail call to torch.jit.load, we need to\u001b[39;00m\n\u001b[32m   1331\u001b[39m         \u001b[38;5;66;03m# reset back to the original position.\u001b[39;00m\n\u001b[32m   1332\u001b[39m         orig_position = opened_file.tell()\n",
      "\u001b[36mFile \u001b[39m\u001b[32m/opt/anaconda3/envs/aiml25-exam/lib/python3.12/site-packages/torch/serialization.py:659\u001b[39m, in \u001b[36m_open_file_like\u001b[39m\u001b[34m(name_or_buffer, mode)\u001b[39m\n\u001b[32m    657\u001b[39m \u001b[38;5;28;01mdef\u001b[39;00m\u001b[38;5;250m \u001b[39m\u001b[34m_open_file_like\u001b[39m(name_or_buffer, mode):\n\u001b[32m    658\u001b[39m     \u001b[38;5;28;01mif\u001b[39;00m _is_path(name_or_buffer):\n\u001b[32m--> \u001b[39m\u001b[32m659\u001b[39m         \u001b[38;5;28;01mreturn\u001b[39;00m \u001b[43m_open_file\u001b[49m\u001b[43m(\u001b[49m\u001b[43mname_or_buffer\u001b[49m\u001b[43m,\u001b[49m\u001b[43m \u001b[49m\u001b[43mmode\u001b[49m\u001b[43m)\u001b[49m\n\u001b[32m    660\u001b[39m     \u001b[38;5;28;01melse\u001b[39;00m:\n\u001b[32m    661\u001b[39m         \u001b[38;5;28;01mif\u001b[39;00m \u001b[33m\"\u001b[39m\u001b[33mw\u001b[39m\u001b[33m\"\u001b[39m \u001b[38;5;129;01min\u001b[39;00m mode:\n",
      "\u001b[36mFile \u001b[39m\u001b[32m/opt/anaconda3/envs/aiml25-exam/lib/python3.12/site-packages/torch/serialization.py:640\u001b[39m, in \u001b[36m_open_file.__init__\u001b[39m\u001b[34m(self, name, mode)\u001b[39m\n\u001b[32m    639\u001b[39m \u001b[38;5;28;01mdef\u001b[39;00m\u001b[38;5;250m \u001b[39m\u001b[34m__init__\u001b[39m(\u001b[38;5;28mself\u001b[39m, name, mode):\n\u001b[32m--> \u001b[39m\u001b[32m640\u001b[39m     \u001b[38;5;28msuper\u001b[39m().\u001b[34m__init__\u001b[39m(\u001b[38;5;28;43mopen\u001b[39;49m\u001b[43m(\u001b[49m\u001b[43mname\u001b[49m\u001b[43m,\u001b[49m\u001b[43m \u001b[49m\u001b[43mmode\u001b[49m\u001b[43m)\u001b[49m)\n",
      "\u001b[31mFileNotFoundError\u001b[39m: [Errno 2] No such file or directory: '/Users/emilstausbol/Documents/GitHub/AIML25-Exam/yolo-trained.pt'"
     ]
    }
   ],
   "source": [
    "model = YOLO(from_root(\"yolo-trained.pt\"))\n",
    "\n",
    "yolo = Yolo(model)\n",
    "yolo.predict(from_root(\"datasets/test/images/1.png\"))"
   ]
  },
  {
   "cell_type": "code",
   "execution_count": 4,
   "id": "2328e05a",
   "metadata": {},
   "outputs": [
    {
     "data": {
      "text/plain": [
       "[{'xywh': [1163.42822265625,\n",
       "   383.06591796875,\n",
       "   1180.1429443359375,\n",
       "   601.815185546875],\n",
       "  'confidence': 0.91915363073349,\n",
       "  'class_id': 0,\n",
       "  'xyxy': [573.3568115234375,\n",
       "   82.1583251953125,\n",
       "   1753.499755859375,\n",
       "   683.9735107421875]},\n",
       " {'xywh': [616.860595703125,\n",
       "   920.391357421875,\n",
       "   646.033935546875,\n",
       "   607.21728515625],\n",
       "  'confidence': 0.8993555903434753,\n",
       "  'class_id': 0,\n",
       "  'xyxy': [293.8435974121094, 616.78271484375, 939.8775634765625, 1224.0]},\n",
       " {'xywh': [541.1039428710938,\n",
       "   578.2733154296875,\n",
       "   619.6742553710938,\n",
       "   503.87139892578125],\n",
       "  'confidence': 0.8913698196411133,\n",
       "  'class_id': 0,\n",
       "  'xyxy': [231.2667999267578,\n",
       "   326.33758544921875,\n",
       "   850.9410400390625,\n",
       "   830.208984375]},\n",
       " {'xywh': [1039.62646484375,\n",
       "   565.8004150390625,\n",
       "   388.488037109375,\n",
       "   481.3470764160156],\n",
       "  'confidence': 0.8903194665908813,\n",
       "  'class_id': 0,\n",
       "  'xyxy': [845.3824462890625,\n",
       "   325.1268615722656,\n",
       "   1233.8704833984375,\n",
       "   806.4739379882812]},\n",
       " {'xywh': [404.9783630371094,\n",
       "   175.62281799316406,\n",
       "   744.2182006835938,\n",
       "   338.7335510253906],\n",
       "  'confidence': 0.8868914842605591,\n",
       "  'class_id': 0,\n",
       "  'xyxy': [32.8692626953125,\n",
       "   6.256049156188965,\n",
       "   777.0874633789062,\n",
       "   344.9895935058594]},\n",
       " {'xywh': [601.511962890625,\n",
       "   786.320556640625,\n",
       "   668.9357299804688,\n",
       "   875.3588256835938],\n",
       "  'confidence': 0.770042359828949,\n",
       "  'class_id': 0,\n",
       "  'xyxy': [267.0440673828125, 348.64117431640625, 935.9797973632812, 1224.0]},\n",
       " {'xywh': [699.11572265625,\n",
       "   341.0593566894531,\n",
       "   901.5664672851562,\n",
       "   323.55181884765625],\n",
       "  'confidence': 0.7666981220245361,\n",
       "  'class_id': 0,\n",
       "  'xyxy': [248.33245849609375,\n",
       "   179.283447265625,\n",
       "   1149.89892578125,\n",
       "   502.83526611328125]},\n",
       " {'xywh': [131.52745056152344,\n",
       "   496.39031982421875,\n",
       "   254.13510131835938,\n",
       "   661.499267578125],\n",
       "  'confidence': 0.763619601726532,\n",
       "  'class_id': 0,\n",
       "  'xyxy': [4.459892749786377,\n",
       "   165.64071655273438,\n",
       "   258.5950012207031,\n",
       "   827.1399536132812]},\n",
       " {'xywh': [545.3331298828125,\n",
       "   499.55987548828125,\n",
       "   608.0093383789062,\n",
       "   346.0353698730469],\n",
       "  'confidence': 0.720837414264679,\n",
       "  'class_id': 0,\n",
       "  'xyxy': [241.32847595214844,\n",
       "   326.5422058105469,\n",
       "   849.3378295898438,\n",
       "   672.5775756835938]},\n",
       " {'xywh': [544.5245361328125,\n",
       "   948.3073120117188,\n",
       "   481.36761474609375,\n",
       "   544.1126708984375],\n",
       "  'confidence': 0.5482460260391235,\n",
       "  'class_id': 0,\n",
       "  'xyxy': [303.84075927734375,\n",
       "   676.2509765625,\n",
       "   785.2083740234375,\n",
       "   1220.3636474609375]},\n",
       " {'xywh': [1516.7689208984375,\n",
       "   284.1482238769531,\n",
       "   410.275390625,\n",
       "   267.04449462890625],\n",
       "  'confidence': 0.49164319038391113,\n",
       "  'class_id': 0,\n",
       "  'xyxy': [1311.6312255859375,\n",
       "   150.62596130371094,\n",
       "   1721.9066162109375,\n",
       "   417.67047119140625]},\n",
       " {'xywh': [924.290771484375,\n",
       "   617.67431640625,\n",
       "   627.62255859375,\n",
       "   760.8052978515625],\n",
       "  'confidence': 0.37596771121025085,\n",
       "  'class_id': 0,\n",
       "  'xyxy': [610.4794921875,\n",
       "   237.27166748046875,\n",
       "   1238.10205078125,\n",
       "   998.0769653320312]},\n",
       " {'xywh': [550.096435546875,\n",
       "   325.8473205566406,\n",
       "   626.0458374023438,\n",
       "   321.81549072265625],\n",
       "  'confidence': 0.35552918910980225,\n",
       "  'class_id': 0,\n",
       "  'xyxy': [237.0735321044922,\n",
       "   164.9395751953125,\n",
       "   863.119384765625,\n",
       "   486.75506591796875]},\n",
       " {'xywh': [385.9302062988281,\n",
       "   818.3995971679688,\n",
       "   771.8604125976562,\n",
       "   811.2008056640625],\n",
       "  'confidence': 0.2572599947452545,\n",
       "  'class_id': 0,\n",
       "  'xyxy': [0.0, 412.7991638183594, 771.8604125976562, 1224.0]}]"
      ]
     },
     "execution_count": 4,
     "metadata": {},
     "output_type": "execute_result"
    }
   ],
   "source": [
    "bboxes = yolo.getBBoxes()\n",
    "bboxes"
   ]
  },
  {
   "cell_type": "code",
   "execution_count": 5,
   "id": "8f05ed55",
   "metadata": {},
   "outputs": [],
   "source": [
    "\n",
    "# Importing Image class from PIL module\n",
    "from PIL import Image\n",
    "\n",
    "for bbox in bboxes:\n",
    "    im = Image.open(from_root(\"datasets/test/images/1.png\"))\n",
    "    [left, top, right, bottom] = bbox[\"xyxy\"]\n",
    "    im1 = im.crop((left, top, right, bottom))\n",
    "    im1.show()"
   ]
  }
 ],
 "metadata": {
  "kernelspec": {
   "display_name": "aiml25-exam",
   "language": "python",
   "name": "python3"
  },
  "language_info": {
   "codemirror_mode": {
    "name": "ipython",
    "version": 3
   },
   "file_extension": ".py",
   "mimetype": "text/x-python",
   "name": "python",
   "nbconvert_exporter": "python",
   "pygments_lexer": "ipython3",
   "version": "3.12.10"
  }
 },
 "nbformat": 4,
 "nbformat_minor": 5
}
