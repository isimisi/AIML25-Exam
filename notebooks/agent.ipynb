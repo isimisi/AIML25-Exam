{
 "cells": [
  {
   "cell_type": "code",
   "execution_count": 2,
   "metadata": {},
   "outputs": [],
   "source": [
    "import torch\n",
    "from transformers import CLIPProcessor, CLIPModel\n",
    "from PIL import Image\n",
    "import cv2\n",
    "from ultralytics import YOLO\n",
    "from langgraph.graph import StateGraph, START, END\n",
    "from typing import TypedDict, Optional"
   ]
  },
  {
   "cell_type": "code",
   "execution_count": 4,
   "metadata": {},
   "outputs": [],
   "source": [
    "class ImageState(TypedDict):\n",
    "    image_path: str\n",
    "    is_diagram: Optional[bool]\n",
    "    classification_confidence: Optional[float]\n",
    "    diagram_detections: Optional[list]\n",
    "    verbose: bool"
   ]
  },
  {
   "cell_type": "code",
   "execution_count": 5,
   "metadata": {},
   "outputs": [],
   "source": [
    "def read_image(state: ImageState):\n",
    "    if state[\"verbose\"]:\n",
    "        print(f\"🔍 Reading image: {state['image_path']}\")\n",
    "    return {}"
   ]
  },
  {
   "cell_type": "code",
   "execution_count": 6,
   "metadata": {},
   "outputs": [],
   "source": [
    "def classify_image(state: ImageState):\n",
    "    model = CLIPModel.from_pretrained(\"openai/clip-vit-base-patch32\")\n",
    "    processor = CLIPProcessor.from_pretrained(\"openai/clip-vit-base-patch32\")\n",
    "    \n",
    "    image = Image.open(state[\"image_path\"]).convert(\"RGB\")\n",
    "    inputs = processor(text=[\"a diagram\", \"not a diagram\"], images=image, return_tensors=\"pt\", padding=True)\n",
    "    outputs = model(**inputs)\n",
    "    probs = outputs.logits_per_image.softmax(dim=1)\n",
    "    \n",
    "    is_diagram = probs.argmax() == 0\n",
    "    return {\"is_diagram\": is_diagram, \"classification_confidence\": probs.max().item()}"
   ]
  },
  {
   "cell_type": "code",
   "execution_count": 7,
   "metadata": {},
   "outputs": [],
   "source": [
    "def handle_non_diagram(state: ImageState):\n",
    "    print(\"🚫 Not a diagram. Ending pipeline.\")\n",
    "    return {}"
   ]
  },
  {
   "cell_type": "code",
   "execution_count": 8,
   "metadata": {},
   "outputs": [],
   "source": [
    "def route_decision(state: ImageState) -> str:\n",
    "    return \"run_yolo_detection\" if state[\"is_diagram\"] else \"handle_non_diagram\""
   ]
  },
  {
   "cell_type": "code",
   "execution_count": 9,
   "metadata": {},
   "outputs": [
    {
     "ename": "NameError",
     "evalue": "name 'run_yolo_detection' is not defined",
     "output_type": "error",
     "traceback": [
      "\u001b[31m---------------------------------------------------------------------------\u001b[39m",
      "\u001b[31mNameError\u001b[39m                                 Traceback (most recent call last)",
      "\u001b[36mCell\u001b[39m\u001b[36m \u001b[39m\u001b[32mIn[9]\u001b[39m\u001b[32m, line 5\u001b[39m\n\u001b[32m      3\u001b[39m graph.add_node(\u001b[33m\"\u001b[39m\u001b[33mclassify_image\u001b[39m\u001b[33m\"\u001b[39m, classify_image)\n\u001b[32m      4\u001b[39m graph.add_node(\u001b[33m\"\u001b[39m\u001b[33mhandle_non_diagram\u001b[39m\u001b[33m\"\u001b[39m, handle_non_diagram)\n\u001b[32m----> \u001b[39m\u001b[32m5\u001b[39m graph.add_node(\u001b[33m\"\u001b[39m\u001b[33mrun_yolo_detection\u001b[39m\u001b[33m\"\u001b[39m, \u001b[43mrun_yolo_detection\u001b[49m)\n\u001b[32m      7\u001b[39m graph.add_edge(START, \u001b[33m\"\u001b[39m\u001b[33mread_image\u001b[39m\u001b[33m\"\u001b[39m)\n\u001b[32m      8\u001b[39m graph.add_edge(\u001b[33m\"\u001b[39m\u001b[33mread_image\u001b[39m\u001b[33m\"\u001b[39m, \u001b[33m\"\u001b[39m\u001b[33mclassify_image\u001b[39m\u001b[33m\"\u001b[39m)\n",
      "\u001b[31mNameError\u001b[39m: name 'run_yolo_detection' is not defined"
     ]
    }
   ],
   "source": [
    "graph = StateGraph(ImageState)\n",
    "graph.add_node(\"read_image\", read_image)\n",
    "graph.add_node(\"classify_image\", classify_image)\n",
    "graph.add_node(\"handle_non_diagram\", handle_non_diagram)\n",
    "graph.add_node(\"run_yolo_detection\", run_yolo_detection)\n",
    "\n",
    "graph.add_edge(START, \"read_image\")\n",
    "graph.add_edge(\"read_image\", \"classify_image\")\n",
    "graph.add_conditional_edges(\"classify_image\", route_decision, {\n",
    "    \"run_yolo_detection\": \"run_yolo_detection\",\n",
    "    \"handle_non_diagram\": \"handle_non_diagram\"\n",
    "})\n",
    "graph.add_edge(\"run_yolo_detection\", END)\n",
    "graph.add_edge(\"handle_non_diagram\", END)\n",
    "\n",
    "compiled_graph = graph.compile()"
   ]
  },
  {
   "cell_type": "code",
   "execution_count": null,
   "metadata": {},
   "outputs": [],
   "source": [
    "compiled_graph.invoke({\n",
    "    \"image_path\": \"datasets/test/images/1.png\",\n",
    "    \"verbose\": True\n",
    "})"
   ]
  }
 ],
 "metadata": {
  "kernelspec": {
   "display_name": "aiml25-exam",
   "language": "python",
   "name": "python3"
  },
  "language_info": {
   "codemirror_mode": {
    "name": "ipython",
    "version": 3
   },
   "file_extension": ".py",
   "mimetype": "text/x-python",
   "name": "python",
   "nbconvert_exporter": "python",
   "pygments_lexer": "ipython3",
   "version": "3.12.10"
  }
 },
 "nbformat": 4,
 "nbformat_minor": 2
}
