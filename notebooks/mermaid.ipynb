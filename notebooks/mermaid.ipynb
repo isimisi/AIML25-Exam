{
 "cells": [
  {
   "cell_type": "code",
   "execution_count": 40,
   "id": "a4e6b832",
   "metadata": {},
   "outputs": [
    {
     "name": "stdout",
     "output_type": "stream",
     "text": [
      "Working directory set to: /Users/isimisi/Documents/GitHub/isimisi/AIML25-Exam\n"
     ]
    }
   ],
   "source": [
    "import os\n",
    "from pathlib import Path\n",
    "\n",
    "while Path.cwd().name.lower() != \"aiml25-exam\" and \"aiml25-exam\" in str(Path.cwd()).lower():\n",
    "    os.chdir(\"..\")  # Move up one directory\n",
    "print(f\"Working directory set to: {Path.cwd()}\")"
   ]
  },
  {
   "cell_type": "code",
   "execution_count": 41,
   "id": "169933c9",
   "metadata": {},
   "outputs": [
    {
     "data": {
      "text/plain": [
       "<Figure size 1400x1000 with 0 Axes>"
      ]
     },
     "execution_count": 41,
     "metadata": {},
     "output_type": "execute_result"
    },
    {
     "data": {
      "text/plain": [
       "<Figure size 1400x1000 with 0 Axes>"
      ]
     },
     "metadata": {},
     "output_type": "display_data"
    }
   ],
   "source": [
    "from src.yolo.yolo import Yolo\n",
    "from ultralytics import YOLO\n",
    "from src.utils.path import from_root\n",
    "from src.llm_caller import LLMCaller\n",
    "from src.mermaid_detector import MermaidDetector\n",
    "import matplotlib.pyplot as plt\n",
    "from src.mermaid_to_json import MermaidToJSON\n",
    "\n",
    "\n",
    "plt.figure(figsize=(14, 10))"
   ]
  },
  {
   "cell_type": "code",
   "execution_count": 42,
   "id": "d3c64ebb",
   "metadata": {},
   "outputs": [],
   "source": [
    "model = YOLO(from_root(\"models/yolo-trained.pt\"))\n",
    "\n",
    "yolo = Yolo(model)"
   ]
  },
  {
   "cell_type": "code",
   "execution_count": 43,
   "id": "b0c885b8",
   "metadata": {},
   "outputs": [],
   "source": [
    "from decouple import config\n",
    "\n",
    "WX_API_KEY = config(\"WX_API_KEY\")\n",
    "WX_PROJECT_ID = config(\"WX_PROJECT_ID\")\n",
    "WX_API_URL = \"https://us-south.ml.cloud.ibm.com\"\n",
    "OPENAI_KEY = config(\"OPENAI_API_KEY\")\n",
    "# OPENAI_API_URL = \"https://api.openai.com/v1\"\n",
    "# OPENAI_PROJECT = \"proj_6SmPVkyXa0GChFv7TmDjB9B5\"\n",
    "\n",
    "model = LLMCaller(\n",
    "    api_key=OPENAI_KEY,          \n",
    "    model_id=\"gpt-4o\",     \n",
    "    params={\n",
    "        \"temperature\": 0.7,\n",
    "        \"max_tokens\": 150\n",
    "    })"
   ]
  },
  {
   "cell_type": "code",
   "execution_count": 44,
   "id": "b0919fdb",
   "metadata": {},
   "outputs": [],
   "source": [
    "mermaid_to_json = MermaidToJSON(model)\n",
    "detector = MermaidDetector(model, yolo, mermaid_to_json)\n"
   ]
  },
  {
   "cell_type": "code",
   "execution_count": 45,
   "id": "266e979a",
   "metadata": {},
   "outputs": [
    {
     "name": "stdout",
     "output_type": "stream",
     "text": [
      "\n",
      "image 1/1 /Users/isimisi/Documents/GitHub/isimisi/AIML25-Exam/datasets/test/images/1.png: 448x640 14 sub-flows, 573.0ms\n",
      "Speed: 1.3ms preprocess, 573.0ms inference, 0.6ms postprocess per image at shape (1, 3, 448, 640)\n",
      "totale images: 14\n"
     ]
    }
   ],
   "source": [
    "detector.initiate_image(str(from_root(\"datasets/test/images/1.png\")), should_crop=True)"
   ]
  },
  {
   "cell_type": "code",
   "execution_count": 46,
   "id": "2e81b876",
   "metadata": {},
   "outputs": [],
   "source": [
    "detector.detect_nodes()"
   ]
  },
  {
   "cell_type": "code",
   "execution_count": 47,
   "id": "aa21b3fc",
   "metadata": {},
   "outputs": [
    {
     "name": "stdout",
     "output_type": "stream",
     "text": [
      "['MainGroupTopCo[\"Main Group TopCo\"]', 'GroupCo2[\"GroupCo 2\"]', 'GroupCo3[\"GroupCo 3\"]', 'Co3Limited[\"Co 3 Limited\"]', 'GroupCo4[\"GroupCo 4\"]', 'Co4Limited[\"Co 4 Limited\"]', 'Co5Limited[\"Co 5 Limited\"]', 'Facility1[\"Facility 1\"]', 'Facility1Lenders[\"Facility 1 Lenders\"]', 'Facility2[\"Facility 2\"]', 'Facility2Lenders[\"Facility 2 Lenders\"]', 'Facility3[\"Facility 3\"]', 'Facility4[\"Facility 4\"]']\n"
     ]
    }
   ],
   "source": [
    "img = detector.graph_images[0]\n",
    "print(img['nodes'])"
   ]
  },
  {
   "cell_type": "code",
   "execution_count": 48,
   "id": "f3da46ce",
   "metadata": {},
   "outputs": [],
   "source": [
    "detector.detect_edges()"
   ]
  },
  {
   "cell_type": "code",
   "execution_count": 49,
   "id": "8d3ca68d",
   "metadata": {},
   "outputs": [
    {
     "name": "stdout",
     "output_type": "stream",
     "text": [
      "Mermaid 1\n",
      "graph TD\n",
      "    MainGroupTopCo[\"Main Group TopCo\"]\n",
      "    GroupCo2[\"GroupCo 2\"]\n",
      "    GroupCo3[\"GroupCo 3\"]\n",
      "    Co3Limited[\"Co 3 Limited\"]\n",
      "    GroupCo4[\"GroupCo 4\"]\n",
      "    Co4Limited[\"Co 4 Limited\"]\n",
      "    Co5Limited[\"Co 5 Limited\"]\n",
      "    Facility1[\"Facility 1\"]\n",
      "    Facility1Lenders[\"Facility 1 Lenders\"]\n",
      "    Facility2[\"Facility 2\"]\n",
      "    Facility2Lenders[\"Facility 2 Lenders\"]\n",
      "    Facility3[\"Facility 3\"]\n",
      "    Facility4[\"Facility 4\"]\n",
      "\n",
      "    MainGroupTopCo -->|100%| GroupCo2\n",
      "    MainGroupTopCo -->|100%| GroupCo3\n",
      "    GroupCo3 -->|100%| Co3Limited\n",
      "    MainGroupTopCo -->|100%| GroupCo4\n",
      "    GroupCo4 -->|100%| Co4Limited\n",
      "    GroupCo4 -->|100%| Co5Limited\n",
      "    Facility1 --> Facility1Lenders\n",
      "    Facility2 --> Facility2Lenders\n",
      "    MainGroupTopCo --> Facility1\n",
      "    MainGroupTopCo --> Facility2\n",
      "    MainGroupTopCo --> Facility3\n",
      "    MainGroupTopCo --> Facility4\n",
      "\n",
      "\n",
      "\n",
      "Mermaid 2\n",
      "graph TD\n",
      "    Co6Limited[\"Co 6 Limited\"]\n",
      "    Co7Limited[\"Co 7 Limited\"]\n",
      "    Co8Limited[\"Co 8 Limited\"]\n",
      "    Co9Limited[\"Co 9 Limited\"]\n",
      "    Co10Limited[\"Co 10 Limited\"]\n",
      "    Co11Limited[\"Co 11 Limited\"]\n",
      "    Partnership[\"Partnership\"]\n",
      "    OtherSubs[\"Other Subs\"]\n",
      "    \n",
      "    Co6Limited --> Co7Limited\n",
      "    Co6Limited --> Co11Limited\n",
      "    Co11Limited --> Partnership\n",
      "    Co7Limited --> Co8Limited\n",
      "    Co7Limited --> Co9Limited\n",
      "    Co9Limited --> Co10Limited\n",
      "    Co8Limited --> OtherSubs\n",
      "\n",
      "\n",
      "\n",
      "Mermaid 3\n",
      "graph TD\n",
      "  GroupCo1[\"GroupCo 1\"]\n",
      "  GroupCo2[\"GroupCo 2\"]\n",
      "  GroupCo3[\"GroupCo 3\"]\n",
      "  Co1Limited[\"Co 1 Limited\"]\n",
      "  Co2Limited[\"Co 2 Limited\"]\n",
      "  Co3Limited[\"Co 3 Limited\"]\n",
      "  Co6Limited[\"Co 6 Limited\"]\n",
      "\n",
      "  GroupCo1 --> Co1Limited\n",
      "  GroupCo2 --> Co2Limited\n",
      "  Co2Limited --> Co6Limited\n",
      "  GroupCo3 --> Co3Limited\n",
      "\n",
      "\n",
      "\n",
      "Mermaid 4\n",
      "graph TD\n",
      "    GroupCo4[\"GroupCo 4\"]\n",
      "    Co4Limited[\"Co 4 Limited\"]\n",
      "    Co5Limited[\"Co 5 Limited\"]\n",
      "    GroupCo4 -->|100%| Co4Limited\n",
      "    GroupCo4 -->|100%| Co5Limited\n",
      "\n",
      "\n",
      "\n",
      "Mermaid 5\n",
      "graph TD\n",
      "    LifeInterestTrust1[\"Life Interest Trust 1\"] -->|60%| BVIGroupTopCo[\"BVI Group TopCo\"]\n",
      "    LifeInterestTrust2[\"Life Interest Trust 2\"] -->|40%| MainGroupTopCo[\"Main Group TopCo\"]\n",
      "    BVIGroupTopCo -->|100%| MainGroupTopCo\n",
      "    LifeInterestTrust1 -. £5m .-> MainGroupTopCo\n",
      "\n",
      "\n",
      "\n",
      "Mermaid 6\n",
      "graph TD\n",
      "    GroupCo1[\"GroupCo 1\"] --> Co1Limited[\"Co 1 Limited\"]\n",
      "    GroupCo2[\"GroupCo 2\"] --> Co2Limited[\"Co 2 Limited\"]\n",
      "    GroupCo3[\"GroupCo 3\"] --> Co3Limited[\"Co 3 Limited\"]\n",
      "    Co1Limited --> Co6Limited[\"Co 6 Limited\"]\n",
      "    Co2Limited --> Co6Limited\n",
      "    Co3Limited --> Co11Limited[\"Co 11 Limited\"]\n",
      "    Co6Limited --> Co7Limited[\"Co 7 Limited\"]\n",
      "    Co7Limited --> Co8Limited[\"Co 8 Limited\"]\n",
      "    Co7Limited --> Co9Limited[\"Co 9 Limited\"]\n",
      "    Co9Limited --> Co10Limited[\"Co 10 Limited\"]\n",
      "    Co8Limited --> OtherSubs[\"Other Subs\"]\n",
      "    Co11Limited --> Partnership[\"Partnership\"]\n",
      "\n",
      "\n",
      "\n",
      "Mermaid 7\n",
      "graph TD\n",
      "    MainGroupTopCo[\"Main Group TopCo\"]\n",
      "    GroupCo1[\"GroupCo 1\"]\n",
      "    GroupCo2[\"GroupCo 2\"]\n",
      "    GroupCo3[\"GroupCo 3\"]\n",
      "    GroupCo4[\"GroupCo 4\"]\n",
      "\n",
      "    MainGroupTopCo --> GroupCo1\n",
      "    MainGroupTopCo --> GroupCo2\n",
      "    MainGroupTopCo --> GroupCo3\n",
      "    MainGroupTopCo --> GroupCo4\n",
      "\n",
      "\n",
      "\n",
      "Mermaid 8\n",
      "graph TD\n",
      "  BVIGroupTopCo[\"BVI Group TopCo\"] --> BVIGroupSub1[\"BVI Group Sub 1\"]\n",
      "  BVIGroupSub1[\"BVI Group Sub 1\"] --> BVIGroupSub2[\"BVI Group Sub 2\"]\n",
      "\n",
      "\n",
      "\n",
      "Mermaid 9\n",
      "graph TD\n",
      "    GroupCo1[\"GroupCo 1\"] --> Co1Limited[\"Co 1 Limited\"]\n",
      "    GroupCo2[\"GroupCo 2\"] --> Co2Limited[\"Co 2 Limited\"]\n",
      "    GroupCo3[\"GroupCo 3\"] --> Co3Limited[\"Co 3 Limited\"]\n",
      "\n",
      "\n",
      "\n",
      "Mermaid 10\n",
      "graph TD\n",
      "    Co6Limited[\"Co 6 Limited\"]\n",
      "    Co7Limited[\"Co 7 Limited\"]\n",
      "    Co8Limited[\"Co 8 Limited\"]\n",
      "    Co9Limited[\"Co 9 Limited\"]\n",
      "    Co10Limited[\"Co 10 Limited\"]\n",
      "    Co11Limited[\"Co 11 Limited\"]\n",
      "    OtherSubs[\"Other Subs\"]\n",
      "\n",
      "    Co6Limited --> Co7Limited\n",
      "    Co7Limited --> Co8Limited\n",
      "    Co7Limited --> Co9Limited\n",
      "    Co7Limited --> Co10Limited\n",
      "    Co8Limited --> OtherSubs\n",
      "    Co6Limited --> Co11Limited\n",
      "\n",
      "\n",
      "\n",
      "Mermaid 11\n",
      "graph TD\n",
      "    Facility1[\"Facility 1\"] --> Facility1Lenders[\"Facility 1 Lenders\"]\n",
      "    Facility2[\"Facility 2\"] --> Facility2Lenders[\"Facility 2 Lenders\"]\n",
      "\n",
      "\n",
      "\n",
      "Mermaid 12\n",
      "graph TD\n",
      "    TopCo[\"TopCo\"]\n",
      "    GroupCo3[\"GroupCo 3\"]\n",
      "    GroupCo4[\"GroupCo 4\"]\n",
      "    Co3Limited[\"Co 3 Limited\"]\n",
      "    Co4Limited[\"Co 4 Limited\"]\n",
      "    Co5Limited[\"Co 5 Limited\"]\n",
      "    Co11Limited[\"Co 11 Limited\"]\n",
      "\n",
      "    TopCo --> GroupCo3\n",
      "    TopCo --> GroupCo4\n",
      "    GroupCo3 --> Co3Limited\n",
      "    GroupCo3 --> Co11Limited\n",
      "    GroupCo4 --> Co4Limited\n",
      "    GroupCo4 --> Co5Limited\n",
      "\n",
      "\n",
      "\n",
      "Mermaid 13\n",
      "graph TD\n",
      "  MainGroupTopCo[\"Main Group TopCo\"] --> GroupCo1[\"GroupCo 1\"]\n",
      "  MainGroupTopCo --> GroupCo2[\"GroupCo 2\"]\n",
      "  MainGroupTopCo --> GroupCo3[\"GroupCo 3\"]\n",
      "\n",
      "\n",
      "\n",
      "Mermaid 14\n",
      "graph TD\n",
      "    BVIGroupSub2[\"BVI Group Sub 2\"] --> Co1Limited[\"Co 1 Limited\"]\n",
      "    Co1Limited --> Co2Limited[\"Co 2 Limited\"]\n",
      "    Co1Limited --> Co3Limited[\"Co 3 Limited\"]\n",
      "    Co2Limited --> Co6Limited[\"Co 6 Limited\"]\n",
      "    Co6Limited --> Co7Limited[\"Co 7 Limited\"]\n",
      "    Co7Limited --> Co8Limited[\"Co 8 Limited\"]\n",
      "    Co7Limited --> Co11Limited[\"Co 11 Limited\"]\n",
      "    Co8Limited --> Co9Limited[\"Co 9 Limited\"]\n",
      "    Co9Limited --> Co10Limited[\"Co 10 Limited\"]\n",
      "    Co9Limited --> OtherSubs[\"Other Subs\"]\n",
      "\n",
      "\n",
      "\n"
     ]
    }
   ],
   "source": [
    "for idx, img in enumerate(detector.graph_images):\n",
    "    print(f\"Mermaid {idx + 1}\")\n",
    "    print(img[\"mermaid\"])\n",
    "    print(\"\\n\\n\")"
   ]
  },
  {
   "cell_type": "code",
   "execution_count": 50,
   "id": "b25bd9f0",
   "metadata": {},
   "outputs": [],
   "source": [
    "detector.convert_edges()"
   ]
  },
  {
   "cell_type": "code",
   "execution_count": 51,
   "id": "ede4b0a1",
   "metadata": {},
   "outputs": [],
   "source": [
    "graph = detector.get_graph()"
   ]
  },
  {
   "cell_type": "code",
   "execution_count": 52,
   "id": "0737c8d7",
   "metadata": {},
   "outputs": [],
   "source": [
    "from src.edge_validator import EdgeValidator\n",
    "\n",
    "validator = EdgeValidator.from_json_file(str(from_root(\"datasets/test/json/1.json\")), graph.edges)"
   ]
  },
  {
   "cell_type": "code",
   "execution_count": 53,
   "id": "9c8f837f",
   "metadata": {},
   "outputs": [
    {
     "data": {
      "text/plain": [
       "{'true_positives': ['maingrouptopco-facility3',\n",
       "  'maingrouptopco-facility1',\n",
       "  'maingrouptopco-groupco3',\n",
       "  'groupco4-co4limited',\n",
       "  'maingrouptopco-groupco2',\n",
       "  'groupco4-co5limited',\n",
       "  'co7limited-co8limited',\n",
       "  'co6limited-co7limited',\n",
       "  'bvigrouptopco-bvigroupsub1',\n",
       "  'lifeinteresttrust2-maingrouptopco',\n",
       "  'co2limited-co6limited',\n",
       "  'groupco2-co2limited',\n",
       "  'lifeinteresttrust1-bvigrouptopco',\n",
       "  'maingrouptopco-groupco1',\n",
       "  'maingrouptopco-groupco4',\n",
       "  'bvigroupsub1-bvigroupsub2',\n",
       "  'maingrouptopco-facility2',\n",
       "  'lifeinteresttrust1-maingrouptopco',\n",
       "  'co8limited-othersubs',\n",
       "  'co7limited-co9limited',\n",
       "  'maingrouptopco-facility4',\n",
       "  'co9limited-co10limited'],\n",
       " 'false_positives': ['topco-groupco4',\n",
       "  'groupco3-co3limited',\n",
       "  'co7limited-co11limited',\n",
       "  'co7limited-co10limited',\n",
       "  'topco-groupco3',\n",
       "  'bvigroupsub2-co1limited',\n",
       "  'groupco3-co11limited',\n",
       "  'co11limited-partnership',\n",
       "  'co3limited-co11limited',\n",
       "  'co9limited-othersubs',\n",
       "  'facility1-facility1lenders',\n",
       "  'groupco1-co1limited',\n",
       "  'co8limited-co9limited',\n",
       "  'bvigrouptopco-maingrouptopco',\n",
       "  'co6limited-co11limited',\n",
       "  'co1limited-co6limited',\n",
       "  'facility2-facility2lenders',\n",
       "  'co1limited-co3limited',\n",
       "  'co1limited-co2limited'],\n",
       " 'precision': 0.5365853658536586,\n",
       " 'recall': 0.7857142857142857,\n",
       " 'f1_score': 0.6376811594202899}"
      ]
     },
     "execution_count": 53,
     "metadata": {},
     "output_type": "execute_result"
    }
   ],
   "source": [
    "validator.validate()"
   ]
  }
 ],
 "metadata": {
  "kernelspec": {
   "display_name": "aiml25-exam",
   "language": "python",
   "name": "python3"
  },
  "language_info": {
   "codemirror_mode": {
    "name": "ipython",
    "version": 3
   },
   "file_extension": ".py",
   "mimetype": "text/x-python",
   "name": "python",
   "nbconvert_exporter": "python",
   "pygments_lexer": "ipython3",
   "version": "3.12.3"
  }
 },
 "nbformat": 4,
 "nbformat_minor": 5
}
